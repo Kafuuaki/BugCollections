{
 "cells": [
  {
   "cell_type": "code",
   "execution_count": 11,
   "id": "cca16359",
   "metadata": {},
   "outputs": [],
   "source": [
    "# Code with bug\n",
    "def mergesort(arr, left, right):\n",
    "    if right > left:\n",
    "        mid = (right + left - 1) // 2\n",
    "        mergesort(arr, left, mid), mergesort(arr, mid + 1, right)\n",
    "        arr = merge(arr, left, right)\n",
    "#     return arr\n",
    "\n",
    "def merge(arr, left, right):\n",
    "#     you need to store the original left, be careful of the side effect!\n",
    "    l = left\n",
    "    r = right\n",
    "    mergelength = right - left + 1\n",
    "    mid = (left + right - 1) // 2\n",
    "    temparray = [0]*mergelength\n",
    "    for i in range(0, mergelength):\n",
    "        if right > r:\n",
    "            temparray[i] = arr[left]\n",
    "            left = left + 1\n",
    "        elif left > mid:\n",
    "            temparray[i] = arr[right]\n",
    "            right = right + 1\n",
    "        elif arr[left] < arr[right]:\n",
    "            temparray[i] = arr[left]\n",
    "            left = left + 1\n",
    "        else:\n",
    "            temparray[i] = arr[right]\n",
    "            right = right + 1\n",
    "        \n",
    "    for i in range(0, mergelength):\n",
    "        arr[i + l] = temparray[i]\n",
    "        \n",
    "#         return arr"
   ]
  },
  {
   "cell_type": "markdown",
   "id": "af4d3aa7",
   "metadata": {},
   "source": [
    "in python, immutable datas are passed by value, mutable datas are passed by reference."
   ]
  },
  {
   "cell_type": "code",
   "execution_count": 32,
   "id": "55c79882",
   "metadata": {},
   "outputs": [],
   "source": [
    "def mergesort(arr, left, right):\n",
    "    if right > left:\n",
    "        mid = (right + left) // 2\n",
    "        mergesort(arr, left, mid), mergesort(arr, mid + 1, right)\n",
    "        merge(arr, left, right)\n",
    "\n",
    "def merge(arr, left, right):\n",
    "    mergelength = right - left + 1\n",
    "    mid = (left + right) // 2\n",
    "    l = left\n",
    "    r = mid + 1\n",
    "    temparray = [0]*mergelength\n",
    "    for i in range(0, mergelength):\n",
    "        if r > right:\n",
    "            temparray[i] = arr[l]\n",
    "            l = l + 1\n",
    "        elif l > mid:\n",
    "            temparray[i] = arr[r]\n",
    "            r = r + 1\n",
    "        elif arr[l] < arr[r]:\n",
    "            temparray[i] = arr[l]\n",
    "            l = l + 1\n",
    "        else:\n",
    "            temparray[i] = arr[r]\n",
    "            r = r + 1\n",
    "        \n",
    "    for i in range(0, mergelength):\n",
    "        arr[i + left] = temparray[i]"
   ]
  },
  {
   "cell_type": "markdown",
   "id": "27bd9497",
   "metadata": {},
   "source": [
    "#### Error analysis:\n",
    "    1. floor division can be applied (firstly use floor)\n",
    "    2. the list in python is passed by reference, so it can be revised in placed\n",
    "    3. It is a good pratice to not revise the variable of parameter, for example, create two new variables to represents the double pointers.\n",
    "    4. It is important to be clear what things you are comparing, double pointers that point to the start of two array are needed, and they shall be limited inside the scope of array to be merged. While in the original code it is confused which things are compared beacuse of the change of the parameters.\n",
    "    \n",
    "    p.s The floor of the mean is imporatant, especially when there are only two elements, [0, 1], the floor will return the number with lower index.\n",
    "    \n",
    "    p.p.s Another important thing is that the semantic meanning of the merge and mergesort function reveal that they are considered the closed interval of the array arr[left, right]."
   ]
  },
  {
   "cell_type": "code",
   "execution_count": 43,
   "id": "6708e7ad",
   "metadata": {},
   "outputs": [],
   "source": [
    "# with a little bit optimization\n",
    "\n",
    "def merge(arr, left, right):\n",
    "    mid = (left + right) // 2\n",
    "    l = left\n",
    "    r = mid + 1\n",
    "    \n",
    "    arraylength = right - left + 1\n",
    "    temparray = [0]*arraylength\n",
    "    \n",
    "    i = 0\n",
    "    \n",
    "#     slightly change the order \n",
    "    \n",
    "    while l <= mid and r <= right:\n",
    "        if arr[l] < arr[r]:\n",
    "            temparray[i] = arr[l]\n",
    "            l = l + 1\n",
    "        else:\n",
    "            temparray[i] = arr[r]\n",
    "            r = r + 1\n",
    "        i = i + 1    \n",
    "    \n",
    "    while l <= mid:\n",
    "        temparray[i] = arr[l]\n",
    "        i = i + 1\n",
    "        l = l + 1\n",
    "    while r <= right:\n",
    "        temparray[i] = arr[r]\n",
    "        i = i + 1\n",
    "        r = r + 1\n",
    "        \n",
    "    for i in range(0, arraylength):\n",
    "        arr[i + left] = temparray[i]\n",
    "    \n",
    "\n",
    "def mergesort(arr, left, right):\n",
    "    if right > left:\n",
    "        mid = (left + right) // 2\n",
    "        mergesort(arr, left, mid), mergesort(arr, mid + 1, right)\n",
    "        merge(arr, left, right)"
   ]
  },
  {
   "cell_type": "code",
   "execution_count": 44,
   "id": "659b3c97",
   "metadata": {},
   "outputs": [
    {
     "data": {
      "text/plain": [
       "[0, 1, 2, 4, 5, 6, 7, 8, 8]"
      ]
     },
     "execution_count": 44,
     "metadata": {},
     "output_type": "execute_result"
    }
   ],
   "source": [
    "arr = [1, 0, 8, 4, 5, 6, 7, 8, 2]\n",
    "mergesort(arr, 0, 8)\n",
    "arr"
   ]
  }
 ],
 "metadata": {
  "kernelspec": {
   "display_name": "Python 3 (ipykernel)",
   "language": "python",
   "name": "python3"
  },
  "language_info": {
   "codemirror_mode": {
    "name": "ipython",
    "version": 3
   },
   "file_extension": ".py",
   "mimetype": "text/x-python",
   "name": "python",
   "nbconvert_exporter": "python",
   "pygments_lexer": "ipython3",
   "version": "3.10.9"
  }
 },
 "nbformat": 4,
 "nbformat_minor": 5
}
