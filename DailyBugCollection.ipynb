{
 "cells": [
  {
   "cell_type": "code",
   "execution_count": null,
   "id": "e6228f5b",
   "metadata": {},
   "outputs": [],
   "source": [
    "(base) yejianqiu@MacBook-Pro-168 ~ %   /opt/homebrew/opt/micromamba/bin/micromamba shell init -s zsh -p ~/micromamba         \n",
    "Modifying RC file \"/Users/yejianqiu/.zshrc\"\n",
    "Generating config for root prefix \"/Users/yejianqiu/micromamba\"\n",
    "Setting mamba executable to: \"/opt/homebrew/opt/micromamba/bin/micromamba\"\n",
    "Adding (or replacing) the following in your \"/Users/yejianqiu/.zshrc\" file\n",
    "\n",
    "# >>> mamba initialize >>>\n",
    "# !! Contents within this block are managed by 'mamba init' !!\n",
    "export MAMBA_EXE=\"/opt/homebrew/opt/micromamba/bin/micromamba\";\n",
    "export MAMBA_ROOT_PREFIX=\"/Users/yejianqiu/micromamba\";\n",
    "__mamba_setup=\"$(\"$MAMBA_EXE\" shell hook --shell zsh --prefix \"$MAMBA_ROOT_PREFIX\" 2> /dev/null)\"\n",
    "if [ $? -eq 0 ]; then\n",
    "    eval \"$__mamba_setup\"\n",
    "else\n",
    "    if [ -f \"/Users/yejianqiu/micromamba/etc/profile.d/micromamba.sh\" ]; then\n",
    "        . \"/Users/yejianqiu/micromamba/etc/profile.d/micromamba.sh\"\n",
    "    else\n",
    "        export  PATH=\"/Users/yejianqiu/micromamba/bin:$PATH\"  # extra space after export prevents interference from conda init\n",
    "    fi\n",
    "fi\n",
    "unset __mamba_setup\n",
    "# <<< mamba initialize <<<\n",
    "\n",
    "(base) yejianqiu@MacBook-Pro-168 ~ % mamba init\n",
    "zsh: command not found: mamba\n",
    "        \n",
    "# The commands you've run are setting up micromamba, a version of the mamba package manager that doesn't require a separate Python environment.\n",
    "\n",
    "# However, it looks like the initialization process did not fully succeed, as you're getting a \"command not found\" error when trying to use mamba. This might be because your shell is not aware of the location where mamba (or micromamba in this case) is installed.\n",
    "\n",
    "# Here are some possible solutions:\n",
    "\n",
    "# 1. Open a new terminal: The changes made to the .zshrc file, which sets up environment variables and paths, are only applied when a new shell session starts. So, close your current terminal and open a new one, then try running mamba again.\n",
    "\n",
    "# 2. Source the .zshrc file: You can apply the changes in your current terminal session by sourcing the .zshrc file. Run the command source ~/.zshrc and then try mamba again.\n",
    "\n",
    "# 3. Use micromamba command: You might need to use micromamba command instead of mamba if mamba is not found. Try using micromamba init instead.\n",
    "\n",
    "# If the problem persists, there might be an issue with the setup or installation of micromamba. Make sure that the micromamba binary exists in the specified directory (/opt/homebrew/opt/micromamba/bin/micromamba), and that the path is correctly set up in your .zshrc file. If necessary, you might need to reinstall micromamba."
   ]
  },
  {
   "cell_type": "code",
   "execution_count": null,
   "id": "ee12069f",
   "metadata": {},
   "outputs": [],
   "source": []
  }
 ],
 "metadata": {
  "kernelspec": {
   "display_name": "Python 3 (ipykernel)",
   "language": "python",
   "name": "python3"
  },
  "language_info": {
   "codemirror_mode": {
    "name": "ipython",
    "version": 3
   },
   "file_extension": ".py",
   "mimetype": "text/x-python",
   "name": "python",
   "nbconvert_exporter": "python",
   "pygments_lexer": "ipython3",
   "version": "3.10.9"
  }
 },
 "nbformat": 4,
 "nbformat_minor": 5
}
